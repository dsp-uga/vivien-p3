{
 "cells": [
  {
   "cell_type": "code",
   "execution_count": 3,
   "metadata": {},
   "outputs": [],
   "source": [
    "import os\n",
    "\n",
    "os.system('gsutil cp gs://uga-dsp/project3/train.txt .')\n",
    "\n",
    "f = open('./train.txt').read().split()\n",
    "\n",
    "for i in f:\n",
    "    os.system('gsutil cp -r gs://uga-dsp/project3/data/' + i + '.tar .')"
   ]
  },
  {
   "cell_type": "code",
   "execution_count": 15,
   "metadata": {},
   "outputs": [],
   "source": [
    "import os\n",
    "\n",
    "os.system('gsutil cp gs://uga-dsp/project3/train.txt .')\n",
    "\n",
    "f = open('./train.txt').read().split()\n",
    "\n",
    "for i in f:\n",
    "    os.system('gsutil cp -r gs://uga-dsp/project3/masks/' + i + '.png .')"
   ]
  },
  {
   "cell_type": "code",
   "execution_count": 1,
   "metadata": {},
   "outputs": [],
   "source": [
    "import os\n",
    "\n",
    "os.system('gsutil cp gs://uga-dsp/project3/test.txt .')\n",
    "\n",
    "f = open('./test.txt').read().split()\n",
    "\n",
    "for i in f:\n",
    "    os.system('gsutil cp -r gs://uga-dsp/project3/data/' + i + '.tar .')"
   ]
  },
  {
   "cell_type": "code",
   "execution_count": 13,
   "metadata": {},
   "outputs": [],
   "source": [
    "import os\n",
    "import shutil\n",
    "rootdir = './data/my_dataset/img_dir/train/'\n",
    "\n",
    "for subdir, dirs, files in os.walk(rootdir):\n",
    "    for file in files:\n",
    "#         print(subdir)\n",
    "#         print(str(subdir).split(\"/\")[-1])\n",
    "#         print(file)\n",
    "        new_name = str(subdir).split(\"/\")[-1] +\"_\"+ file\n",
    "        shutil.copy(os.path.join(subdir, file), \"./data/my_dataset/img_dir/train/\"+new_name)\n",
    "#         print(new_name)"
   ]
  },
  {
   "cell_type": "code",
   "execution_count": 30,
   "metadata": {
    "scrolled": true
   },
   "outputs": [],
   "source": [
    "import os\n",
    "import shutil\n",
    "rootdir = './data/my_dataset/img_dir/test _original/'\n",
    "\n",
    "for subdir, dirs, files in os.walk(rootdir):\n",
    "    for file in files:\n",
    "#         print(subdir)\n",
    "#         print(str(subdir).split(\"/\")[-1])\n",
    "#         print(file)\n",
    "        new_name = str(subdir).split(\"/\")[-1] +\"_\"+ file\n",
    "        shutil.copy(os.path.join(subdir, file), \"./data/my_dataset/img_dir/test/\"+new_name)\n",
    "#         print(new_name)"
   ]
  },
  {
   "cell_type": "code",
   "execution_count": null,
   "metadata": {},
   "outputs": [],
   "source": [
    "rootdir = './data/my_dataset/ann_dir/train_original/'\n",
    "\n",
    "for subdir, dirs, files in os.walk(rootdir):\n",
    "    for file in files:\n",
    "#         print(subdir)\n",
    "#         print(str(subdir).split(\"/\")[-1])\n",
    "#         print(file)\n",
    "\n",
    "        for i in range(100):\n",
    "            num = \"{0:0=4d}\".format(i)\n",
    "            new_name = str(file).split(\".\")[0]+\"_frame\"+str(num)+\".png\"\n",
    "#             print(new_name)\n",
    "#     break\n",
    "            shutil.copy(os.path.join(subdir, file), \"./data/my_dataset/ann_dir/train/\"+new_name)\n",
    "#         print(new_name)"
   ]
  }
 ],
 "metadata": {
  "kernelspec": {
   "display_name": "Python 3",
   "language": "python",
   "name": "python3"
  },
  "language_info": {
   "codemirror_mode": {
    "name": "ipython",
    "version": 3
   },
   "file_extension": ".py",
   "mimetype": "text/x-python",
   "name": "python",
   "nbconvert_exporter": "python",
   "pygments_lexer": "ipython3",
   "version": "3.7.9"
  }
 },
 "nbformat": 4,
 "nbformat_minor": 4
}
